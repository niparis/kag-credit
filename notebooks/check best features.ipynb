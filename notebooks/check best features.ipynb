{
 "cells": [
  {
   "cell_type": "code",
   "execution_count": 18,
   "metadata": {
    "collapsed": false
   },
   "outputs": [
    {
     "name": "stdout",
     "output_type": "stream",
     "text": [
      "/Users/nicolas/Code/ml/Kaggle\n",
      "Populating the interactive namespace from numpy and matplotlib\n"
     ]
    }
   ],
   "source": [
    "%cd ..\n",
    "%pylab inline"
   ]
  },
  {
   "cell_type": "code",
   "execution_count": 32,
   "metadata": {
    "collapsed": true
   },
   "outputs": [],
   "source": [
    "import sklearn_evaluation\n",
    "from sklearn.ensemble import RandomForestClassifier\n",
    "import xgboost as xgb"
   ]
  },
  {
   "cell_type": "code",
   "execution_count": 10,
   "metadata": {
    "collapsed": false
   },
   "outputs": [],
   "source": [
    "import credit\n",
    "from credit import base, features"
   ]
  },
  {
   "cell_type": "code",
   "execution_count": 30,
   "metadata": {
    "collapsed": true
   },
   "outputs": [],
   "source": [
    "\n",
    "def plot_confusion_matrix(*, y_test, y_pred):\n",
    "    # https://classeval.wordpress.com/introduction/basic-evaluation-measures/\n",
    "    sklearn_evaluation.plot.confusion_matrix(y_test, y_pred)\n",
    "\n",
    "\n",
    "def plot_roc(*, y_test, y_pred):\n",
    "    # https://classeval.wordpress.com/introduction/introduction-to-the-roc-receiver-operating-characteristics-plot/\n",
    "    sklearn_evaluation.plot.roc(y_test, y_pred)\n",
    "\n",
    "\n",
    "def plot_precision_recall(*, y_test, y_pred):\n",
    "    # https://classeval.wordpress.com/introduction/introduction-to-the-precision-recall-plot/\n",
    "    sklearn_evaluation.plot.precision_recall(y_test, y_pred)\n",
    "\n",
    "\n",
    "def plot_feature_importances(*, estimator, y_test, y_pred, names):\n",
    "    sklearn_evaluation.plot.feature_importances(estimator, top_n=5, feature_names=feature_names)\n"
   ]
  },
  {
   "cell_type": "code",
   "execution_count": 26,
   "metadata": {
    "collapsed": false
   },
   "outputs": [
    {
     "name": "stderr",
     "output_type": "stream",
     "text": [
      "INFO:credit.features:Columns left : SeriousDlqin2yrs, RevolvingUtilizationOfUnsecuredLines, age, NumberOfTime30-59DaysPastDueNotWorse, DebtRatio, MonthlyIncome, NumberOfOpenCreditLinesAndLoans, NumberOfTimes90DaysLate, NumberRealEstateLoansOrLines, NumberOfTime60-89DaysPastDueNotWorse, NumberOfDependents, 20_30, 30_40, 40_50, 50_60, 60_70, 70_80, 80_90, 90_100, 100_110, retired_2digitage, all_days_late, numbertimenotworse-special90+, -1_0, 0_0.5, 0.5_1, 1_1.2, 1.2_1.5, 1.5_2, 2_5, 5_10, -1_0, 0_0.5, 0.5_0.8, 0.8_1, 1_1.25, 1.25_1.5, 1.5_2, 2_10, 10_100, 100_1000, 1000_10000, 10000_1000000, monthly-expenses, cash-out, -inf_-10000, -10000_-100, -100_0, 0_2500, 2500_5000, 5000_10000, 10000_inf\n",
      "INFO:credit.features:Scaling following columns : MonthlyIncome, NumberOfOpenCreditLinesAndLoans, NumberOfTimes90DaysLate, NumberRealEstateLoansOrLines, NumberOfTime60-89DaysPastDueNotWorse, NumberOfDependents, age\n",
      "INFO:credit.features:(150000, 51)\n",
      "INFO:credit.features:(150000,)\n"
     ]
    }
   ],
   "source": [
    "training_df = base.load_training()\n",
    "\n",
    "# This is the key\n",
    "preproc_df = features.pre_process(df=training_df)\n",
    "\n",
    "feature_names = preproc_df.drop('SeriousDlqin2yrs', axis='columns').columns.tolist()\n",
    "# select, scale & get the np.array we need\n",
    "X, y = features.scale_features(df=preproc_df, scale=True)"
   ]
  },
  {
   "cell_type": "code",
   "execution_count": 35,
   "metadata": {
    "collapsed": false
   },
   "outputs": [],
   "source": [
    "# estimator = xgb.XGBClassifier(n_estimators= 100, min_weight_fraction_leaf= 0.001)\n",
    "\n",
    "params = {\n",
    "                'learning_rate': 0.01,\n",
    "                'n_estimators': 300,\n",
    "                'seed': 0,\n",
    "                'subsample': 0.5,\n",
    "                'colsample_bytree': 0.5,\n",
    "                'objective': 'binary:logistic',\n",
    "                # Control the balance of positive and negative weights, useful for unbalanced classes.\n",
    "                # A typical value to consider: sum(negative cases) / sum(positive cases)\n",
    "                'scale_pos_weight': 0.07,\n",
    "            }\n",
    "estimator = xgb.XGBClassifier(**params)"
   ]
  },
  {
   "cell_type": "code",
   "execution_count": 36,
   "metadata": {
    "collapsed": false
   },
   "outputs": [
    {
     "data": {
      "text/plain": [
       "XGBClassifier(base_score=0.5, colsample_bylevel=1, colsample_bytree=0.5,\n",
       "       gamma=0, learning_rate=0.01, max_delta_step=0, max_depth=3,\n",
       "       min_child_weight=1, missing=None, n_estimators=300, nthread=-1,\n",
       "       objective='binary:logistic', reg_alpha=0, reg_lambda=1,\n",
       "       scale_pos_weight=0.07, seed=0, silent=True, subsample=0.5)"
      ]
     },
     "execution_count": 36,
     "metadata": {},
     "output_type": "execute_result"
    }
   ],
   "source": [
    "estimator.fit(X,y)"
   ]
  },
  {
   "cell_type": "code",
   "execution_count": 37,
   "metadata": {
    "collapsed": true
   },
   "outputs": [],
   "source": [
    "y_pred = estimator.predict(X)"
   ]
  },
  {
   "cell_type": "code",
   "execution_count": 38,
   "metadata": {
    "collapsed": false
   },
   "outputs": [
    {
     "data": {
      "image/png": "[encoded data removed]",
      "text/plain": [
       "<matplotlib.figure.Figure at 0x110fe3470>"
      ]
     },
     "metadata": {},
     "output_type": "display_data"
    }
   ],
   "source": [
    "plot_feature_importances(estimator=estimator, y_test=y, y_pred=y_pred, names=feature_names)"
   ]
  },
  {
   "cell_type": "code",
   "execution_count": 24,
   "metadata": {
    "collapsed": false
   },
   "outputs": [
    {
     "data": {
      "text/plain": [
       "['RevolvingUtilizationOfUnsecuredLines',\n",
       " 'age',\n",
       " 'NumberOfTime30-59DaysPastDueNotWorse',\n",
       " 'DebtRatio',\n",
       " 'MonthlyIncome',\n",
       " 'NumberOfOpenCreditLinesAndLoans',\n",
       " 'NumberOfTimes90DaysLate',\n",
       " 'NumberRealEstateLoansOrLines',\n",
       " 'NumberOfTime60-89DaysPastDueNotWorse',\n",
       " 'NumberOfDependents',\n",
       " '20_30',\n",
       " '30_40',\n",
       " '40_50',\n",
       " '50_60',\n",
       " '60_70',\n",
       " '70_80',\n",
       " '80_90',\n",
       " '90_100',\n",
       " '100_110',\n",
       " 'retired_2digitage',\n",
       " 'all_days_late',\n",
       " 'numbertimenotworse-special90+',\n",
       " '-1_0',\n",
       " '0_0.5',\n",
       " '0.5_1',\n",
       " '1_1.2',\n",
       " '1.2_1.5',\n",
       " '1.5_2',\n",
       " '2_5',\n",
       " '5_10',\n",
       " '-1_0',\n",
       " '0_0.5',\n",
       " '0.5_0.8',\n",
       " '0.8_1',\n",
       " '1_1.25',\n",
       " '1.25_1.5',\n",
       " '1.5_2',\n",
       " '2_10',\n",
       " '10_100',\n",
       " '100_1000',\n",
       " '1000_10000',\n",
       " '10000_1000000',\n",
       " 'monthly-expenses',\n",
       " 'cash-out',\n",
       " '-inf_-10000',\n",
       " '-10000_-100',\n",
       " '-100_0',\n",
       " '0_2500',\n",
       " '2500_5000',\n",
       " '5000_10000',\n",
       " '10000_inf']"
      ]
     },
     "execution_count": 24,
     "metadata": {},
     "output_type": "execute_result"
    }
   ],
   "source": []
  },
  {
   "cell_type": "code",
   "execution_count": null,
   "metadata": {
    "collapsed": true
   },
   "outputs": [],
   "source": []
  }
 ],
 "metadata": {
  "kernelspec": {
   "display_name": "Python [conda env:kagcredit]",
   "language": "python",
   "name": "conda-env-kagcredit-py"
  },
  "language_info": {
   "codemirror_mode": {
    "name": "ipython",
    "version": 3
   },
   "file_extension": ".py",
   "mimetype": "text/x-python",
   "name": "python",
   "nbconvert_exporter": "python",
   "pygments_lexer": "ipython3",
   "version": "3.5.0"
  }
 },
 "nbformat": 4,
 "nbformat_minor": 2
}
